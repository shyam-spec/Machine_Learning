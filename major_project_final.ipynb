{
 "cells": [
  {
   "cell_type": "code",
   "execution_count": 1,
   "metadata": {},
   "outputs": [],
   "source": [
    "import pandas as pd\n",
    "import numpy as np\n",
    "import matplotlib.pyplot as plt  # Importing the built-in libraries\n",
    "import seaborn as sb\n",
    "%matplotlib inline"
   ]
  },
  {
   "cell_type": "code",
   "execution_count": 2,
   "metadata": {},
   "outputs": [
    {
     "data": {
      "text/html": [
       "<div>\n",
       "<style scoped>\n",
       "    .dataframe tbody tr th:only-of-type {\n",
       "        vertical-align: middle;\n",
       "    }\n",
       "\n",
       "    .dataframe tbody tr th {\n",
       "        vertical-align: top;\n",
       "    }\n",
       "\n",
       "    .dataframe thead th {\n",
       "        text-align: right;\n",
       "    }\n",
       "</style>\n",
       "<table border=\"1\" class=\"dataframe\">\n",
       "  <thead>\n",
       "    <tr style=\"text-align: right;\">\n",
       "      <th></th>\n",
       "      <th>_unit_id</th>\n",
       "      <th>_golden</th>\n",
       "      <th>_unit_state</th>\n",
       "      <th>_trusted_judgments</th>\n",
       "      <th>_last_judgment_at</th>\n",
       "      <th>gender</th>\n",
       "      <th>gender:confidence</th>\n",
       "      <th>profile_yn</th>\n",
       "      <th>profile_yn:confidence</th>\n",
       "      <th>created</th>\n",
       "      <th>...</th>\n",
       "      <th>profileimage</th>\n",
       "      <th>retweet_count</th>\n",
       "      <th>sidebar_color</th>\n",
       "      <th>text</th>\n",
       "      <th>tweet_coord</th>\n",
       "      <th>tweet_count</th>\n",
       "      <th>tweet_created</th>\n",
       "      <th>tweet_id</th>\n",
       "      <th>tweet_location</th>\n",
       "      <th>user_timezone</th>\n",
       "    </tr>\n",
       "  </thead>\n",
       "  <tbody>\n",
       "    <tr>\n",
       "      <th>0</th>\n",
       "      <td>815719226</td>\n",
       "      <td>False</td>\n",
       "      <td>finalized</td>\n",
       "      <td>3</td>\n",
       "      <td>10/26/15 23:24</td>\n",
       "      <td>male</td>\n",
       "      <td>1.0000</td>\n",
       "      <td>yes</td>\n",
       "      <td>1.0</td>\n",
       "      <td>12/5/13 1:48</td>\n",
       "      <td>...</td>\n",
       "      <td>https://pbs.twimg.com/profile_images/414342229...</td>\n",
       "      <td>0</td>\n",
       "      <td>FFFFFF</td>\n",
       "      <td>Robbie E Responds To Critics After Win Against...</td>\n",
       "      <td>NaN</td>\n",
       "      <td>110964</td>\n",
       "      <td>10/26/15 12:40</td>\n",
       "      <td>6.587300e+17</td>\n",
       "      <td>main; @Kan1shk3</td>\n",
       "      <td>Chennai</td>\n",
       "    </tr>\n",
       "    <tr>\n",
       "      <th>1</th>\n",
       "      <td>815719227</td>\n",
       "      <td>False</td>\n",
       "      <td>finalized</td>\n",
       "      <td>3</td>\n",
       "      <td>10/26/15 23:30</td>\n",
       "      <td>male</td>\n",
       "      <td>1.0000</td>\n",
       "      <td>yes</td>\n",
       "      <td>1.0</td>\n",
       "      <td>10/1/12 13:51</td>\n",
       "      <td>...</td>\n",
       "      <td>https://pbs.twimg.com/profile_images/539604221...</td>\n",
       "      <td>0</td>\n",
       "      <td>C0DEED</td>\n",
       "      <td>‰ÛÏIt felt like they were my friends and I was...</td>\n",
       "      <td>NaN</td>\n",
       "      <td>7471</td>\n",
       "      <td>10/26/15 12:40</td>\n",
       "      <td>6.587300e+17</td>\n",
       "      <td>NaN</td>\n",
       "      <td>Eastern Time (US &amp; Canada)</td>\n",
       "    </tr>\n",
       "    <tr>\n",
       "      <th>2</th>\n",
       "      <td>815719228</td>\n",
       "      <td>False</td>\n",
       "      <td>finalized</td>\n",
       "      <td>3</td>\n",
       "      <td>10/26/15 23:33</td>\n",
       "      <td>male</td>\n",
       "      <td>0.6625</td>\n",
       "      <td>yes</td>\n",
       "      <td>1.0</td>\n",
       "      <td>11/28/14 11:30</td>\n",
       "      <td>...</td>\n",
       "      <td>https://pbs.twimg.com/profile_images/657330418...</td>\n",
       "      <td>1</td>\n",
       "      <td>C0DEED</td>\n",
       "      <td>i absolutely adore when louis starts the songs...</td>\n",
       "      <td>NaN</td>\n",
       "      <td>5617</td>\n",
       "      <td>10/26/15 12:40</td>\n",
       "      <td>6.587300e+17</td>\n",
       "      <td>clcncl</td>\n",
       "      <td>Belgrade</td>\n",
       "    </tr>\n",
       "    <tr>\n",
       "      <th>3</th>\n",
       "      <td>815719229</td>\n",
       "      <td>False</td>\n",
       "      <td>finalized</td>\n",
       "      <td>3</td>\n",
       "      <td>10/26/15 23:10</td>\n",
       "      <td>male</td>\n",
       "      <td>1.0000</td>\n",
       "      <td>yes</td>\n",
       "      <td>1.0</td>\n",
       "      <td>6/11/09 22:39</td>\n",
       "      <td>...</td>\n",
       "      <td>https://pbs.twimg.com/profile_images/259703936...</td>\n",
       "      <td>0</td>\n",
       "      <td>C0DEED</td>\n",
       "      <td>Hi @JordanSpieth - Looking at the url - do you...</td>\n",
       "      <td>NaN</td>\n",
       "      <td>1693</td>\n",
       "      <td>10/26/15 12:40</td>\n",
       "      <td>6.587300e+17</td>\n",
       "      <td>Palo Alto, CA</td>\n",
       "      <td>Pacific Time (US &amp; Canada)</td>\n",
       "    </tr>\n",
       "    <tr>\n",
       "      <th>4</th>\n",
       "      <td>815719230</td>\n",
       "      <td>False</td>\n",
       "      <td>finalized</td>\n",
       "      <td>3</td>\n",
       "      <td>10/27/15 1:15</td>\n",
       "      <td>female</td>\n",
       "      <td>1.0000</td>\n",
       "      <td>yes</td>\n",
       "      <td>1.0</td>\n",
       "      <td>4/16/14 13:23</td>\n",
       "      <td>...</td>\n",
       "      <td>https://pbs.twimg.com/profile_images/564094871...</td>\n",
       "      <td>0</td>\n",
       "      <td>0</td>\n",
       "      <td>Watching Neighbours on Sky+ catching up with t...</td>\n",
       "      <td>NaN</td>\n",
       "      <td>31462</td>\n",
       "      <td>10/26/15 12:40</td>\n",
       "      <td>6.587300e+17</td>\n",
       "      <td>NaN</td>\n",
       "      <td>NaN</td>\n",
       "    </tr>\n",
       "  </tbody>\n",
       "</table>\n",
       "<p>5 rows × 26 columns</p>\n",
       "</div>"
      ],
      "text/plain": [
       "    _unit_id  _golden _unit_state  _trusted_judgments _last_judgment_at  \\\n",
       "0  815719226    False   finalized                   3    10/26/15 23:24   \n",
       "1  815719227    False   finalized                   3    10/26/15 23:30   \n",
       "2  815719228    False   finalized                   3    10/26/15 23:33   \n",
       "3  815719229    False   finalized                   3    10/26/15 23:10   \n",
       "4  815719230    False   finalized                   3     10/27/15 1:15   \n",
       "\n",
       "   gender  gender:confidence profile_yn  profile_yn:confidence  \\\n",
       "0    male             1.0000        yes                    1.0   \n",
       "1    male             1.0000        yes                    1.0   \n",
       "2    male             0.6625        yes                    1.0   \n",
       "3    male             1.0000        yes                    1.0   \n",
       "4  female             1.0000        yes                    1.0   \n",
       "\n",
       "          created  ...                                       profileimage  \\\n",
       "0    12/5/13 1:48  ...  https://pbs.twimg.com/profile_images/414342229...   \n",
       "1   10/1/12 13:51  ...  https://pbs.twimg.com/profile_images/539604221...   \n",
       "2  11/28/14 11:30  ...  https://pbs.twimg.com/profile_images/657330418...   \n",
       "3   6/11/09 22:39  ...  https://pbs.twimg.com/profile_images/259703936...   \n",
       "4   4/16/14 13:23  ...  https://pbs.twimg.com/profile_images/564094871...   \n",
       "\n",
       "   retweet_count sidebar_color  \\\n",
       "0              0        FFFFFF   \n",
       "1              0        C0DEED   \n",
       "2              1        C0DEED   \n",
       "3              0        C0DEED   \n",
       "4              0             0   \n",
       "\n",
       "                                                text tweet_coord tweet_count  \\\n",
       "0  Robbie E Responds To Critics After Win Against...         NaN      110964   \n",
       "1  ‰ÛÏIt felt like they were my friends and I was...         NaN        7471   \n",
       "2  i absolutely adore when louis starts the songs...         NaN        5617   \n",
       "3  Hi @JordanSpieth - Looking at the url - do you...         NaN        1693   \n",
       "4  Watching Neighbours on Sky+ catching up with t...         NaN       31462   \n",
       "\n",
       "    tweet_created      tweet_id   tweet_location               user_timezone  \n",
       "0  10/26/15 12:40  6.587300e+17  main; @Kan1shk3                     Chennai  \n",
       "1  10/26/15 12:40  6.587300e+17              NaN  Eastern Time (US & Canada)  \n",
       "2  10/26/15 12:40  6.587300e+17           clcncl                    Belgrade  \n",
       "3  10/26/15 12:40  6.587300e+17    Palo Alto, CA  Pacific Time (US & Canada)  \n",
       "4  10/26/15 12:40  6.587300e+17              NaN                         NaN  \n",
       "\n",
       "[5 rows x 26 columns]"
      ]
     },
     "execution_count": 2,
     "metadata": {},
     "output_type": "execute_result"
    }
   ],
   "source": [
    "df=pd.read_csv(\"Information (2).csv\",engine='python')    # Reading the dataframe\n",
    "df.head(5)"
   ]
  },
  {
   "cell_type": "code",
   "execution_count": 3,
   "metadata": {},
   "outputs": [
    {
     "data": {
      "text/plain": [
       "0"
      ]
     },
     "execution_count": 3,
     "metadata": {},
     "output_type": "execute_result"
    }
   ],
   "source": [
    "#To find duplicates\n",
    "df.duplicated().sum()"
   ]
  },
  {
   "cell_type": "code",
   "execution_count": 4,
   "metadata": {},
   "outputs": [
    {
     "data": {
      "text/plain": [
       "Index(['_unit_id', '_golden', '_unit_state', '_trusted_judgments',\n",
       "       '_last_judgment_at', 'gender', 'gender:confidence', 'profile_yn',\n",
       "       'profile_yn:confidence', 'created', 'description', 'fav_number',\n",
       "       'gender_gold', 'link_color', 'name', 'profile_yn_gold', 'profileimage',\n",
       "       'retweet_count', 'sidebar_color', 'text', 'tweet_coord', 'tweet_count',\n",
       "       'tweet_created', 'tweet_id', 'tweet_location', 'user_timezone'],\n",
       "      dtype='object')"
      ]
     },
     "execution_count": 4,
     "metadata": {},
     "output_type": "execute_result"
    }
   ],
   "source": [
    "df.columns"
   ]
  },
  {
   "cell_type": "code",
   "execution_count": 5,
   "metadata": {},
   "outputs": [
    {
     "data": {
      "text/html": [
       "<div>\n",
       "<style scoped>\n",
       "    .dataframe tbody tr th:only-of-type {\n",
       "        vertical-align: middle;\n",
       "    }\n",
       "\n",
       "    .dataframe tbody tr th {\n",
       "        vertical-align: top;\n",
       "    }\n",
       "\n",
       "    .dataframe thead th {\n",
       "        text-align: right;\n",
       "    }\n",
       "</style>\n",
       "<table border=\"1\" class=\"dataframe\">\n",
       "  <thead>\n",
       "    <tr style=\"text-align: right;\">\n",
       "      <th></th>\n",
       "      <th>gender</th>\n",
       "      <th>gender:confidence</th>\n",
       "      <th>description</th>\n",
       "      <th>link_color</th>\n",
       "      <th>name</th>\n",
       "      <th>text</th>\n",
       "    </tr>\n",
       "  </thead>\n",
       "  <tbody>\n",
       "    <tr>\n",
       "      <th>0</th>\n",
       "      <td>male</td>\n",
       "      <td>1.0000</td>\n",
       "      <td>i sing my own rhythm.</td>\n",
       "      <td>08C2C2</td>\n",
       "      <td>sheezy0</td>\n",
       "      <td>Robbie E Responds To Critics After Win Against...</td>\n",
       "    </tr>\n",
       "    <tr>\n",
       "      <th>1</th>\n",
       "      <td>male</td>\n",
       "      <td>1.0000</td>\n",
       "      <td>I'm the author of novels filled with family dr...</td>\n",
       "      <td>0084B4</td>\n",
       "      <td>DavdBurnett</td>\n",
       "      <td>‰ÛÏIt felt like they were my friends and I was...</td>\n",
       "    </tr>\n",
       "    <tr>\n",
       "      <th>2</th>\n",
       "      <td>male</td>\n",
       "      <td>0.6625</td>\n",
       "      <td>louis whining and squealing and all</td>\n",
       "      <td>ABB8C2</td>\n",
       "      <td>lwtprettylaugh</td>\n",
       "      <td>i absolutely adore when louis starts the songs...</td>\n",
       "    </tr>\n",
       "    <tr>\n",
       "      <th>3</th>\n",
       "      <td>male</td>\n",
       "      <td>1.0000</td>\n",
       "      <td>Mobile guy.  49ers, Shazam, Google, Kleiner Pe...</td>\n",
       "      <td>0084B4</td>\n",
       "      <td>douggarland</td>\n",
       "      <td>Hi @JordanSpieth - Looking at the url - do you...</td>\n",
       "    </tr>\n",
       "    <tr>\n",
       "      <th>4</th>\n",
       "      <td>female</td>\n",
       "      <td>1.0000</td>\n",
       "      <td>Ricky Wilson The Best FRONTMAN/Kaiser Chiefs T...</td>\n",
       "      <td>3B94D9</td>\n",
       "      <td>WilfordGemma</td>\n",
       "      <td>Watching Neighbours on Sky+ catching up with t...</td>\n",
       "    </tr>\n",
       "  </tbody>\n",
       "</table>\n",
       "</div>"
      ],
      "text/plain": [
       "   gender  gender:confidence  \\\n",
       "0    male             1.0000   \n",
       "1    male             1.0000   \n",
       "2    male             0.6625   \n",
       "3    male             1.0000   \n",
       "4  female             1.0000   \n",
       "\n",
       "                                         description link_color  \\\n",
       "0                              i sing my own rhythm.     08C2C2   \n",
       "1  I'm the author of novels filled with family dr...     0084B4   \n",
       "2                louis whining and squealing and all     ABB8C2   \n",
       "3  Mobile guy.  49ers, Shazam, Google, Kleiner Pe...     0084B4   \n",
       "4  Ricky Wilson The Best FRONTMAN/Kaiser Chiefs T...     3B94D9   \n",
       "\n",
       "             name                                               text  \n",
       "0         sheezy0  Robbie E Responds To Critics After Win Against...  \n",
       "1     DavdBurnett  ‰ÛÏIt felt like they were my friends and I was...  \n",
       "2  lwtprettylaugh  i absolutely adore when louis starts the songs...  \n",
       "3     douggarland  Hi @JordanSpieth - Looking at the url - do you...  \n",
       "4    WilfordGemma  Watching Neighbours on Sky+ catching up with t...  "
      ]
     },
     "execution_count": 5,
     "metadata": {},
     "output_type": "execute_result"
    }
   ],
   "source": [
    "#Drop unrequired columns\n",
    "df.drop(columns=['_unit_id', '_golden', '_unit_state', '_trusted_judgments',\n",
    "       '_last_judgment_at',  'profile_yn','profile_yn:confidence', \n",
    "        'created', 'fav_number','gender_gold', \n",
    "        'profile_yn_gold', 'profileimage','retweet_count', 'sidebar_color',  'tweet_coord', \n",
    "        'tweet_count','tweet_created', 'tweet_id','tweet_location','user_timezone'],\n",
    "        inplace=True,axis=1)\n",
    "df.head(5)"
   ]
  },
  {
   "cell_type": "code",
   "execution_count": 6,
   "metadata": {},
   "outputs": [
    {
     "data": {
      "text/plain": [
       "gender                 97\n",
       "gender:confidence      26\n",
       "description          3744\n",
       "link_color              0\n",
       "name                    0\n",
       "text                    0\n",
       "dtype: int64"
      ]
     },
     "execution_count": 6,
     "metadata": {},
     "output_type": "execute_result"
    }
   ],
   "source": [
    "#Null values\n",
    "df.isnull().sum() "
   ]
  },
  {
   "cell_type": "code",
   "execution_count": 7,
   "metadata": {},
   "outputs": [],
   "source": [
    "#Dropping null values\n",
    "df.dropna(subset=['gender'],inplace=True)\n",
    "df.dropna(subset=['link_color'],inplace=True)\n",
    "df.dropna(subset=['name'],inplace=True)"
   ]
  },
  {
   "cell_type": "code",
   "execution_count": 8,
   "metadata": {},
   "outputs": [
    {
     "data": {
      "text/plain": [
       "gender                  0\n",
       "gender:confidence       0\n",
       "description          3729\n",
       "link_color              0\n",
       "name                    0\n",
       "text                    0\n",
       "dtype: int64"
      ]
     },
     "execution_count": 8,
     "metadata": {},
     "output_type": "execute_result"
    }
   ],
   "source": [
    "df.isnull().sum()"
   ]
  },
  {
   "cell_type": "code",
   "execution_count": 9,
   "metadata": {},
   "outputs": [],
   "source": [
    "df['description']=df.description.fillna(\"None\")"
   ]
  },
  {
   "cell_type": "code",
   "execution_count": 10,
   "metadata": {},
   "outputs": [
    {
     "data": {
      "text/plain": [
       "gender               0\n",
       "gender:confidence    0\n",
       "description          0\n",
       "link_color           0\n",
       "name                 0\n",
       "text                 0\n",
       "dtype: int64"
      ]
     },
     "execution_count": 10,
     "metadata": {},
     "output_type": "execute_result"
    }
   ],
   "source": [
    "df.isnull().sum()"
   ]
  },
  {
   "cell_type": "code",
   "execution_count": 11,
   "metadata": {},
   "outputs": [],
   "source": [
    "#finding out the rows which are most confident about gender\n",
    "df=df[df['gender:confidence']==1] "
   ]
  },
  {
   "cell_type": "code",
   "execution_count": 12,
   "metadata": {},
   "outputs": [],
   "source": [
    "df.drop(columns=['gender:confidence'],inplace=True,axis=1)"
   ]
  },
  {
   "cell_type": "code",
   "execution_count": 13,
   "metadata": {},
   "outputs": [
    {
     "data": {
      "text/plain": [
       "(13926, 5)"
      ]
     },
     "execution_count": 13,
     "metadata": {},
     "output_type": "execute_result"
    }
   ],
   "source": [
    "df.shape"
   ]
  },
  {
   "cell_type": "code",
   "execution_count": 14,
   "metadata": {},
   "outputs": [],
   "source": [
    "#Finding column with unknown values\n",
    "df=df[df['gender']!='unknown'] \n",
    "df=df[df['gender']!='brand'] "
   ]
  },
  {
   "cell_type": "code",
   "execution_count": 15,
   "metadata": {},
   "outputs": [],
   "source": [
    "import nltk\n",
    "from nltk.tokenize import sent_tokenize,word_tokenize       # importing nltk library\n",
    "from nltk.corpus import stopwords\n",
    "from nltk.stem import PorterStemmer,WordNetLemmatizer\n",
    "import re"
   ]
  },
  {
   "cell_type": "code",
   "execution_count": 16,
   "metadata": {},
   "outputs": [],
   "source": [
    "#nltk.download()"
   ]
  },
  {
   "cell_type": "code",
   "execution_count": 17,
   "metadata": {},
   "outputs": [],
   "source": [
    "#Finding out stopwords\n",
    "stopwords=list(stopwords.words('english')) "
   ]
  },
  {
   "cell_type": "code",
   "execution_count": 18,
   "metadata": {},
   "outputs": [],
   "source": [
    "lemmatizer = nltk.stem.WordNetLemmatizer()\n",
    "def lemmatize_text(text):\n",
    "    text1 = [lemmatizer.lemmatize(w) for w in nltk.word_tokenize(text)]\n",
    "    text=\" \".join(text1)\n",
    "    return text"
   ]
  },
  {
   "cell_type": "code",
   "execution_count": 19,
   "metadata": {},
   "outputs": [],
   "source": [
    "#cleaning of data-removing symbols,digit,underscore\n",
    "def clean_data(text):\n",
    "    text=re.sub(\"<[^>]*>\",\" \",text)                     \n",
    "    text=re.sub(\"https?://[A-Za-z0-9./]+\",\" \",text)    \n",
    "    text=re.sub(\"@[A-Za-z0-9_]+\",\" \",text)                        \n",
    "    text=re.sub(\"#[A-Za-z0-9_]+\",\" \",text)               \n",
    "    text=re.sub(\"_+\",\" \",text)                            \n",
    "    text=re.sub(\"[^a-zA-z]\",\" \",text)                    \n",
    "    text=text.lower()                                   \n",
    "    word_list=word_tokenize(text)\n",
    "    clean_words=[word for word in word_list if not word in stopwords ]\n",
    "    text=\" \".join(clean_words) \n",
    "    return text"
   ]
  },
  {
   "cell_type": "code",
   "execution_count": 20,
   "metadata": {},
   "outputs": [],
   "source": [
    "df['clean_data_text']=df['text'].apply(lambda x: clean_data(x)) \n",
    "df['clean_data_description']=df['description'].apply(lambda x: clean_data(x))"
   ]
  },
  {
   "cell_type": "code",
   "execution_count": 21,
   "metadata": {},
   "outputs": [],
   "source": [
    "df['clean_data_text']=df['clean_data_text'].apply(lambda x: lemmatize_text(x)) \n",
    "df['clean_data_description']=df['clean_data_description'].apply(lambda x: lemmatize_text(x))"
   ]
  },
  {
   "cell_type": "code",
   "execution_count": 22,
   "metadata": {},
   "outputs": [],
   "source": [
    "from textblob import TextBlob"
   ]
  },
  {
   "cell_type": "code",
   "execution_count": 23,
   "metadata": {},
   "outputs": [],
   "source": [
    "def sentiment_calc(text):\n",
    "    try:\n",
    "        Z=TextBlob(text).sentiment.polarity\n",
    "        if(Z < 0):\n",
    "            return \"negative\"\n",
    "        if(Z > 0):\n",
    "            return \"positive\"\n",
    "        else:\n",
    "            return \"neutral\"\n",
    "    except:\n",
    "        return None\n",
    "\n",
    "df['sentiment'] = df['clean_data_description'].apply(sentiment_calc)"
   ]
  },
  {
   "cell_type": "code",
   "execution_count": 24,
   "metadata": {},
   "outputs": [],
   "source": [
    "def sentiment_calc(text):\n",
    "    try:\n",
    "        Z=TextBlob(text).sentiment.subjectivity\n",
    "        if(Z < 0):\n",
    "            return \"bad\"\n",
    "        if(Z > 0):\n",
    "            return \"good\"\n",
    "        else:\n",
    "            return \"normal\"\n",
    "    except:\n",
    "        return None\n",
    "df['sentiment_confidence'] = df['clean_data_description'].apply(sentiment_calc)"
   ]
  },
  {
   "cell_type": "code",
   "execution_count": 25,
   "metadata": {},
   "outputs": [
    {
     "data": {
      "text/html": [
       "<div>\n",
       "<style scoped>\n",
       "    .dataframe tbody tr th:only-of-type {\n",
       "        vertical-align: middle;\n",
       "    }\n",
       "\n",
       "    .dataframe tbody tr th {\n",
       "        vertical-align: top;\n",
       "    }\n",
       "\n",
       "    .dataframe thead th {\n",
       "        text-align: right;\n",
       "    }\n",
       "</style>\n",
       "<table border=\"1\" class=\"dataframe\">\n",
       "  <thead>\n",
       "    <tr style=\"text-align: right;\">\n",
       "      <th></th>\n",
       "      <th>gender</th>\n",
       "      <th>description</th>\n",
       "      <th>link_color</th>\n",
       "      <th>name</th>\n",
       "      <th>text</th>\n",
       "      <th>clean_data_text</th>\n",
       "      <th>clean_data_description</th>\n",
       "      <th>sentiment</th>\n",
       "      <th>sentiment_confidence</th>\n",
       "    </tr>\n",
       "  </thead>\n",
       "  <tbody>\n",
       "    <tr>\n",
       "      <th>0</th>\n",
       "      <td>male</td>\n",
       "      <td>i sing my own rhythm.</td>\n",
       "      <td>08C2C2</td>\n",
       "      <td>sheezy0</td>\n",
       "      <td>Robbie E Responds To Critics After Win Against...</td>\n",
       "      <td>robbie e responds critic win eddie edward</td>\n",
       "      <td>sing rhythm</td>\n",
       "      <td>neutral</td>\n",
       "      <td>normal</td>\n",
       "    </tr>\n",
       "    <tr>\n",
       "      <th>1</th>\n",
       "      <td>male</td>\n",
       "      <td>I'm the author of novels filled with family dr...</td>\n",
       "      <td>0084B4</td>\n",
       "      <td>DavdBurnett</td>\n",
       "      <td>‰ÛÏIt felt like they were my friends and I was...</td>\n",
       "      <td>felt like friend living story</td>\n",
       "      <td>author novel filled family drama romance</td>\n",
       "      <td>positive</td>\n",
       "      <td>good</td>\n",
       "    </tr>\n",
       "    <tr>\n",
       "      <th>3</th>\n",
       "      <td>male</td>\n",
       "      <td>Mobile guy.  49ers, Shazam, Google, Kleiner Pe...</td>\n",
       "      <td>0084B4</td>\n",
       "      <td>douggarland</td>\n",
       "      <td>Hi @JordanSpieth - Looking at the url - do you...</td>\n",
       "      <td>hi looking url use typically see advanced user</td>\n",
       "      <td>mobile guy er shazam google kleiner perkins ya...</td>\n",
       "      <td>neutral</td>\n",
       "      <td>normal</td>\n",
       "    </tr>\n",
       "    <tr>\n",
       "      <th>4</th>\n",
       "      <td>female</td>\n",
       "      <td>Ricky Wilson The Best FRONTMAN/Kaiser Chiefs T...</td>\n",
       "      <td>3B94D9</td>\n",
       "      <td>WilfordGemma</td>\n",
       "      <td>Watching Neighbours on Sky+ catching up with t...</td>\n",
       "      <td>watching neighbour sky catching neighbs xxx xxx</td>\n",
       "      <td>ricky wilson best frontman kaiser chief best b...</td>\n",
       "      <td>positive</td>\n",
       "      <td>good</td>\n",
       "    </tr>\n",
       "    <tr>\n",
       "      <th>5</th>\n",
       "      <td>female</td>\n",
       "      <td>you don't know me.</td>\n",
       "      <td>F5ABB5</td>\n",
       "      <td>monroevicious</td>\n",
       "      <td>Ive seen people on the train with lamps, chair...</td>\n",
       "      <td>ive seen people train lamp chair tv etc</td>\n",
       "      <td>know</td>\n",
       "      <td>neutral</td>\n",
       "      <td>normal</td>\n",
       "    </tr>\n",
       "    <tr>\n",
       "      <th>...</th>\n",
       "      <td>...</td>\n",
       "      <td>...</td>\n",
       "      <td>...</td>\n",
       "      <td>...</td>\n",
       "      <td>...</td>\n",
       "      <td>...</td>\n",
       "      <td>...</td>\n",
       "      <td>...</td>\n",
       "      <td>...</td>\n",
       "    </tr>\n",
       "    <tr>\n",
       "      <th>20044</th>\n",
       "      <td>female</td>\n",
       "      <td>I Love Me...Myself....&amp;....I</td>\n",
       "      <td>0084B4</td>\n",
       "      <td>Bigbootyyjudy_</td>\n",
       "      <td>Need A Ride Home From Practice _Ù÷Ô_Ù÷Ô_Ù÷ÔAnd...</td>\n",
       "      <td>need ride home practice raining hard asf</td>\n",
       "      <td>love</td>\n",
       "      <td>positive</td>\n",
       "      <td>good</td>\n",
       "    </tr>\n",
       "    <tr>\n",
       "      <th>20045</th>\n",
       "      <td>female</td>\n",
       "      <td>(rp)</td>\n",
       "      <td>0084B4</td>\n",
       "      <td>capuletrosa</td>\n",
       "      <td>@lookupondeath ...Fine, and I'll drink tea too...</td>\n",
       "      <td>fine drink tea love</td>\n",
       "      <td>rp</td>\n",
       "      <td>neutral</td>\n",
       "      <td>normal</td>\n",
       "    </tr>\n",
       "    <tr>\n",
       "      <th>20046</th>\n",
       "      <td>male</td>\n",
       "      <td>Whatever you like, it's not a problem at all. ...</td>\n",
       "      <td>CFB929</td>\n",
       "      <td>BenNight41</td>\n",
       "      <td>Greg Hardy you a good player and all but don't...</td>\n",
       "      <td>greg hardy good player get face dez bryant lea...</td>\n",
       "      <td>whatever like problem</td>\n",
       "      <td>neutral</td>\n",
       "      <td>normal</td>\n",
       "    </tr>\n",
       "    <tr>\n",
       "      <th>20047</th>\n",
       "      <td>male</td>\n",
       "      <td>#TeamBarcelona ..You look lost so you should f...</td>\n",
       "      <td>0084B4</td>\n",
       "      <td>realuzzyfluxz</td>\n",
       "      <td>You can miss people and still never want to se...</td>\n",
       "      <td>miss people still never want see</td>\n",
       "      <td>look lost follow follow heart bring brain</td>\n",
       "      <td>neutral</td>\n",
       "      <td>normal</td>\n",
       "    </tr>\n",
       "    <tr>\n",
       "      <th>20049</th>\n",
       "      <td>female</td>\n",
       "      <td>Teamwork makes the dream work.</td>\n",
       "      <td>0084B4</td>\n",
       "      <td>MeganFitz20</td>\n",
       "      <td>I think for my APUSH creative project I'm goin...</td>\n",
       "      <td>think apush creative project going bring bacon...</td>\n",
       "      <td>teamwork make dream work</td>\n",
       "      <td>neutral</td>\n",
       "      <td>normal</td>\n",
       "    </tr>\n",
       "  </tbody>\n",
       "</table>\n",
       "<p>10020 rows × 9 columns</p>\n",
       "</div>"
      ],
      "text/plain": [
       "       gender                                        description link_color  \\\n",
       "0        male                              i sing my own rhythm.     08C2C2   \n",
       "1        male  I'm the author of novels filled with family dr...     0084B4   \n",
       "3        male  Mobile guy.  49ers, Shazam, Google, Kleiner Pe...     0084B4   \n",
       "4      female  Ricky Wilson The Best FRONTMAN/Kaiser Chiefs T...     3B94D9   \n",
       "5      female                                 you don't know me.     F5ABB5   \n",
       "...       ...                                                ...        ...   \n",
       "20044  female                       I Love Me...Myself....&....I     0084B4   \n",
       "20045  female                                               (rp)     0084B4   \n",
       "20046    male  Whatever you like, it's not a problem at all. ...     CFB929   \n",
       "20047    male  #TeamBarcelona ..You look lost so you should f...     0084B4   \n",
       "20049  female                     Teamwork makes the dream work.     0084B4   \n",
       "\n",
       "                 name                                               text  \\\n",
       "0             sheezy0  Robbie E Responds To Critics After Win Against...   \n",
       "1         DavdBurnett  ‰ÛÏIt felt like they were my friends and I was...   \n",
       "3         douggarland  Hi @JordanSpieth - Looking at the url - do you...   \n",
       "4        WilfordGemma  Watching Neighbours on Sky+ catching up with t...   \n",
       "5       monroevicious  Ive seen people on the train with lamps, chair...   \n",
       "...               ...                                                ...   \n",
       "20044  Bigbootyyjudy_  Need A Ride Home From Practice _Ù÷Ô_Ù÷Ô_Ù÷ÔAnd...   \n",
       "20045     capuletrosa  @lookupondeath ...Fine, and I'll drink tea too...   \n",
       "20046      BenNight41  Greg Hardy you a good player and all but don't...   \n",
       "20047   realuzzyfluxz  You can miss people and still never want to se...   \n",
       "20049     MeganFitz20  I think for my APUSH creative project I'm goin...   \n",
       "\n",
       "                                         clean_data_text  \\\n",
       "0              robbie e responds critic win eddie edward   \n",
       "1                          felt like friend living story   \n",
       "3         hi looking url use typically see advanced user   \n",
       "4        watching neighbour sky catching neighbs xxx xxx   \n",
       "5                ive seen people train lamp chair tv etc   \n",
       "...                                                  ...   \n",
       "20044           need ride home practice raining hard asf   \n",
       "20045                                fine drink tea love   \n",
       "20046  greg hardy good player get face dez bryant lea...   \n",
       "20047                   miss people still never want see   \n",
       "20049  think apush creative project going bring bacon...   \n",
       "\n",
       "                                  clean_data_description sentiment  \\\n",
       "0                                            sing rhythm   neutral   \n",
       "1               author novel filled family drama romance  positive   \n",
       "3      mobile guy er shazam google kleiner perkins ya...   neutral   \n",
       "4      ricky wilson best frontman kaiser chief best b...  positive   \n",
       "5                                                   know   neutral   \n",
       "...                                                  ...       ...   \n",
       "20044                                               love  positive   \n",
       "20045                                                 rp   neutral   \n",
       "20046                              whatever like problem   neutral   \n",
       "20047          look lost follow follow heart bring brain   neutral   \n",
       "20049                           teamwork make dream work   neutral   \n",
       "\n",
       "      sentiment_confidence  \n",
       "0                   normal  \n",
       "1                     good  \n",
       "3                   normal  \n",
       "4                     good  \n",
       "5                   normal  \n",
       "...                    ...  \n",
       "20044                 good  \n",
       "20045               normal  \n",
       "20046               normal  \n",
       "20047               normal  \n",
       "20049               normal  \n",
       "\n",
       "[10020 rows x 9 columns]"
      ]
     },
     "execution_count": 25,
     "metadata": {},
     "output_type": "execute_result"
    }
   ],
   "source": [
    "#df=df[df['sentiment_confidence']>0.5]\n",
    "df"
   ]
  },
  {
   "cell_type": "code",
   "execution_count": 26,
   "metadata": {},
   "outputs": [],
   "source": [
    "from sklearn.model_selection import train_test_split\n",
    "from sklearn.feature_extraction.text import CountVectorizer\n",
    "cv=CountVectorizer()"
   ]
  },
  {
   "cell_type": "code",
   "execution_count": 27,
   "metadata": {},
   "outputs": [],
   "source": [
    "df['exp'] = df['clean_data_description'].str.cat(df['clean_data_text'], sep =\" \") \n",
    "df['exp1'] = df['exp'].str.cat(df['sentiment'], sep =\" \")\n",
    "df['exp2'] = df['exp1'].str.cat(df['sentiment_confidence'], sep =\" \")\n",
    "df['exp3'] = df['exp2'].str.cat(df['link_color'], sep =\" \")\n",
    "df['exp4'] = df['exp3'].str.cat(df['name'], sep =\" \")"
   ]
  },
  {
   "cell_type": "code",
   "execution_count": 28,
   "metadata": {},
   "outputs": [],
   "source": [
    "X = cv.fit_transform(df['exp4'])\n",
    "Y =(df['gender'])"
   ]
  },
  {
   "cell_type": "code",
   "execution_count": 29,
   "metadata": {},
   "outputs": [],
   "source": [
    "X_train, X_test, Y_train, Y_test = train_test_split(X,Y)"
   ]
  },
  {
   "cell_type": "code",
   "execution_count": 30,
   "metadata": {},
   "outputs": [
    {
     "data": {
      "text/plain": [
       "((7515, 33519), (2505, 33519), (7515,), (2505,))"
      ]
     },
     "execution_count": 30,
     "metadata": {},
     "output_type": "execute_result"
    }
   ],
   "source": [
    "X_train.shape, X_test.shape, Y_train.shape, Y_test.shape"
   ]
  },
  {
   "cell_type": "code",
   "execution_count": 31,
   "metadata": {},
   "outputs": [],
   "source": [
    "from sklearn.metrics import accuracy_score"
   ]
  },
  {
   "cell_type": "code",
   "execution_count": 32,
   "metadata": {},
   "outputs": [],
   "source": [
    "from sklearn.svm import SVC"
   ]
  },
  {
   "cell_type": "code",
   "execution_count": 43,
   "metadata": {},
   "outputs": [],
   "source": [
    "from sklearn.ensemble import RandomForestClassifier \n",
    "from sklearn.naive_bayes import MultinomialNB "
   ]
  },
  {
   "cell_type": "code",
   "execution_count": 44,
   "metadata": {},
   "outputs": [],
   "source": [
    "svc = SVC()\n",
    "rfc = RandomForestClassifier()\n",
    "nv = MultinomialNB()"
   ]
  },
  {
   "cell_type": "code",
   "execution_count": 45,
   "metadata": {},
   "outputs": [
    {
     "data": {
      "text/plain": [
       "MultinomialNB(alpha=1.0, class_prior=None, fit_prior=True)"
      ]
     },
     "execution_count": 45,
     "metadata": {},
     "output_type": "execute_result"
    }
   ],
   "source": [
    "svc.fit(X_train,Y_train)\n",
    "rfc.fit(X_train,Y_train)\n",
    "nv.fit(X_train,Y_train)"
   ]
  },
  {
   "cell_type": "code",
   "execution_count": 46,
   "metadata": {},
   "outputs": [
    {
     "name": "stdout",
     "output_type": "stream",
     "text": [
      "['female' 'female' 'female' ... 'male' 'female' 'female']\n"
     ]
    }
   ],
   "source": [
    "y_pred_rfc = rfc.predict(X_test)\n",
    "y_pred_svc = svc.predict(X_test)\n",
    "y_pred_niv = nv.predict(X_test)\n",
    "print(y_pred_niv)"
   ]
  },
  {
   "cell_type": "code",
   "execution_count": 47,
   "metadata": {},
   "outputs": [
    {
     "name": "stdout",
     "output_type": "stream",
     "text": [
      "0.6698602794411178\n"
     ]
    }
   ],
   "source": [
    "rfc_score=accuracy_score(y_pred_rfc, Y_test)\n",
    "print(rfc_score)"
   ]
  },
  {
   "cell_type": "code",
   "execution_count": 48,
   "metadata": {},
   "outputs": [
    {
     "name": "stdout",
     "output_type": "stream",
     "text": [
      "0.6834331337325349\n"
     ]
    }
   ],
   "source": [
    "svc_score=accuracy_score(y_pred_svc, Y_test)\n",
    "print(svc_score)"
   ]
  },
  {
   "cell_type": "code",
   "execution_count": 49,
   "metadata": {},
   "outputs": [
    {
     "name": "stdout",
     "output_type": "stream",
     "text": [
      "0.691816367265469\n"
     ]
    }
   ],
   "source": [
    "niv_score=accuracy_score(y_pred_niv, Y_test)\n",
    "print(niv_score)"
   ]
  },
  {
   "cell_type": "code",
   "execution_count": 50,
   "metadata": {},
   "outputs": [
    {
     "name": "stdout",
     "output_type": "stream",
     "text": [
      "the best algorithm is NAIVE BAYES :0.691816\n"
     ]
    }
   ],
   "source": [
    "score=max(rfc_score,svc_score,niv_score)\n",
    "if(score==rfc_score):\n",
    "    print(\"the best algorithm is render forest :%f\" %score)\n",
    "if(score==svc_score):\n",
    "    print(\"the best algorithm is SVC :%f\" %score)\n",
    "if(score==niv_score):\n",
    "    print(\"the best algorithm is NAIVE BAYES :%f\" %score)"
   ]
  },
  {
   "cell_type": "code",
   "execution_count": 51,
   "metadata": {},
   "outputs": [
    {
     "name": "stdout",
     "output_type": "stream",
     "text": [
      "neutral negative\n"
     ]
    }
   ],
   "source": [
    "#maximum and minimum emotion used by males\n",
    "df_1=df[df['gender']=='male']\n",
    "count=df_1['sentiment'].value_counts()\n",
    "Tv = {'neutral':count[\"neutral\"], 'positive':count[\"positive\"], 'negative' : count[\"negative\"]} \n",
    "Keymax = max(Tv, key=Tv.get) \n",
    "Keymin = min(Tv, key=Tv.get) \n",
    "print(Keymax,Keymin)"
   ]
  },
  {
   "cell_type": "code",
   "execution_count": 201,
   "metadata": {},
   "outputs": [
    {
     "name": "stdout",
     "output_type": "stream",
     "text": [
      "neutral negative\n"
     ]
    }
   ],
   "source": [
    "#maximum and minimum emotion used by females\n",
    "df_2=df[df['gender']=='female']\n",
    "count=df_2['sentiment'].value_counts()\n",
    "Tv = {'neutral':count[\"neutral\"], 'positive':count[\"positive\"], 'negative' : count[\"negative\"]} \n",
    "Keymax = max(Tv, key=Tv.get) \n",
    "Keymin = min(Tv, key=Tv.get) \n",
    "print(Keymax,Keymin)"
   ]
  },
  {
   "cell_type": "code",
   "execution_count": 202,
   "metadata": {},
   "outputs": [],
   "source": [
    "female_col = df[df['gender'].str.contains('female')]\n",
    "male_col = df[df['gender'].str.contains('male')]"
   ]
  },
  {
   "cell_type": "code",
   "execution_count": 203,
   "metadata": {},
   "outputs": [
    {
     "data": {
      "image/png": "[encoded data removed]",
      "text/plain": [
       "<Figure size 432x288 with 1 Axes>"
      ]
     },
     "metadata": {
      "needs_background": "light"
     },
     "output_type": "display_data"
    }
   ],
   "source": [
    "plt.hist(female_col.sentiment)\n",
    "plt.show()"
   ]
  },
  {
   "cell_type": "code",
   "execution_count": 204,
   "metadata": {},
   "outputs": [
    {
     "data": {
      "image/png": "[encoded data removed]",
      "text/plain": [
       "<Figure size 432x288 with 1 Axes>"
      ]
     },
     "metadata": {
      "needs_background": "light"
     },
     "output_type": "display_data"
    }
   ],
   "source": [
    "plt.hist(male_col.sentiment)\n",
    "plt.show()"
   ]
  },
  {
   "cell_type": "code",
   "execution_count": 205,
   "metadata": {},
   "outputs": [],
   "source": [
    "from spellchecker import SpellChecker\n",
    "spell = SpellChecker()"
   ]
  },
  {
   "cell_type": "code",
   "execution_count": null,
   "metadata": {},
   "outputs": [],
   "source": [
    "#find those words that may be misspelled\n",
    "misspelled_words_list_female = []\n",
    "for i in range(female_col.shape[0]):\n",
    "    female_words_list = spell.unknown(female_col['text'].values[i].split(' '))\n",
    "    for word in female_words_list:   \n",
    "        misspelled_words_list_female.append(spell.correction(word))\n",
    "\n",
    "female_typos_count = len(misspelled_words_list_female)\n",
    "print(\"The number of typos by the female gender\", female_typos_count)"
   ]
  },
  {
   "cell_type": "code",
   "execution_count": null,
   "metadata": {},
   "outputs": [],
   "source": [
    "# find those words that may be misspelled\n",
    "misspelled_words_list_male = []\n",
    "for i in range(male_col.shape[0]):\n",
    "    male_words_list = spell.unknown(male_col['text'].values[i].split(' '))\n",
    "    for word in male_words_list:   \n",
    "        misspelled_words_list_male.append(spell.correction(word))\n",
    "\n",
    "male_typos_count = len(misspelled_words_list_male)\n",
    "print(\"The name of typos by the male gender\", male_typos_count)"
   ]
  },
  {
   "cell_type": "code",
   "execution_count": null,
   "metadata": {},
   "outputs": [],
   "source": [
    "if female_typos_count > male_typos_count:\n",
    "    print(\"The female gender has more typos in their tweets\")\n",
    "\n",
    "else:\n",
    "    print(\"The male gender has more typos in their tweets\")"
   ]
  }
 ],
 "metadata": {
  "kernelspec": {
   "display_name": "Python 3",
   "language": "python",
   "name": "python3"
  },
  "language_info": {
   "codemirror_mode": {
    "name": "ipython",
    "version": 3
   },
   "file_extension": ".py",
   "mimetype": "text/x-python",
   "name": "python",
   "nbconvert_exporter": "python",
   "pygments_lexer": "ipython3",
   "version": "3.7.6"
  }
 },
 "nbformat": 4,
 "nbformat_minor": 4
}
